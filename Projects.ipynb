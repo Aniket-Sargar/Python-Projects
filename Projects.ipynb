{
 "cells": [
  {
   "cell_type": "code",
   "execution_count": null,
   "id": "a199d0eb-cb79-447e-89f2-761e07650b61",
   "metadata": {},
   "outputs": [],
   "source": []
  },
  {
   "cell_type": "code",
   "execution_count": null,
   "id": "74efdd70-6e91-4f6d-8ca7-7f523ca78055",
   "metadata": {},
   "outputs": [],
   "source": [
    "Simple Username and Password Authentication Script in Python"
   ]
  },
  {
   "cell_type": "code",
   "execution_count": 23,
   "id": "38e1260d-b33c-49ec-b131-571d99b60054",
   "metadata": {},
   "outputs": [
    {
     "name": "stdin",
     "output_type": "stream",
     "text": [
      "Enter username:  Aniket\n",
      "Enter password:  AS2005\n"
     ]
    },
    {
     "name": "stdout",
     "output_type": "stream",
     "text": [
      "Welcome Aniket\n"
     ]
    }
   ],
   "source": [
    "#Simple Username and Password Authentication Script in Python\n",
    "username = input(\"Enter username: \")\n",
    "password = input(\"Enter password: \")\n",
    "if(username == \"Aniket\" and password == \"AS2005\"):\n",
    "    print(\"Welcome\"+\" \"+username)\n",
    "else:\n",
    "    print(\"please check username or password\")    "
   ]
  },
  {
   "cell_type": "code",
   "execution_count": 25,
   "id": "d2d07b4f-1f00-426f-85e5-51cf6cc16f8a",
   "metadata": {},
   "outputs": [
    {
     "name": "stdin",
     "output_type": "stream",
     "text": [
      "Enter username:  Aniket\n",
      "Enter password:  AS2004\n"
     ]
    },
    {
     "name": "stdout",
     "output_type": "stream",
     "text": [
      "please check username or password\n"
     ]
    }
   ],
   "source": [
    "username = input(\"Enter username: \")\n",
    "password = input(\"Enter password: \")\n",
    "if(username == \"Aniket\" and password == \"AS2005\"):\n",
    "    print(\"Welcome\"+\" \"+username)\n",
    "else:\n",
    "    print(\"please check username or password\")    \n",
    "\n"
   ]
  },
  {
   "cell_type": "code",
   "execution_count": null,
   "id": "94c82474-edba-4d23-a282-ab004dc04256",
   "metadata": {},
   "outputs": [],
   "source": [
    "“Building Stronger Passwords: My Latest Python Password Validator”"
   ]
  },
  {
   "cell_type": "code",
   "execution_count": 1,
   "id": "6651defb-f52f-46ca-87f3-48e753344073",
   "metadata": {},
   "outputs": [
    {
     "name": "stdin",
     "output_type": "stream",
     "text": [
      "Enter a password:  R@1230nn\n"
     ]
    },
    {
     "name": "stdout",
     "output_type": "stream",
     "text": [
      "Password is valid.\n"
     ]
    }
   ],
   "source": [
    "def password_validator(password):\n",
    "    is_valid = True\n",
    "\n",
    "    if len(password) < 8:\n",
    "        print(\"Password must be at least 8 characters long.\")\n",
    "        is_valid = False\n",
    "\n",
    "    if not any(char.isupper() for char in password):\n",
    "        print(\"Password must contain at least one uppercase letter.\")\n",
    "        is_valid = False\n",
    "\n",
    "    if not any(char.islower() for char in password):\n",
    "        print(\"Password must contain at least one lowercase letter.\")\n",
    "        is_valid = False\n",
    "\n",
    "    if not any(char.isdigit() for char in password):\n",
    "        print(\"Password must contain at least one digit.\")\n",
    "        is_valid = False\n",
    "\n",
    "    if not any(not char.isalnum() for char in password):\n",
    "        print(\"Password must contain at least one special character.\")\n",
    "        is_valid = False\n",
    "\n",
    "    if is_valid:\n",
    "        print(\"Password is valid.\")\n",
    "\n",
    "password = input(\"Enter a password: \")\n",
    "password_validator(password)"
   ]
  },
  {
   "cell_type": "code",
   "execution_count": 5,
   "id": "3e07c468-349a-4874-93e7-f8aa6ebd6dd0",
   "metadata": {},
   "outputs": [
    {
     "name": "stdin",
     "output_type": "stream",
     "text": [
      "Enter a password:  ani\n"
     ]
    },
    {
     "name": "stdout",
     "output_type": "stream",
     "text": [
      "Password must be at least 8 characters long.\n",
      "Password must contain at least one uppercase letter.\n",
      "Password must contain at least one digit.\n",
      "Password must contain at least one special character.\n"
     ]
    }
   ],
   "source": [
    "def password_validator(password):\n",
    "    is_valid = True\n",
    "\n",
    "    if len(password) < 8:\n",
    "        print(\"Password must be at least 8 characters long.\")\n",
    "        is_valid = False\n",
    "\n",
    "    if not any(char.isupper() for char in password):\n",
    "        print(\"Password must contain at least one uppercase letter.\")\n",
    "        is_valid = False\n",
    "\n",
    "    if not any(char.islower() for char in password):\n",
    "        print(\"Password must contain at least one lowercase letter.\")\n",
    "        is_valid = False\n",
    "\n",
    "    if not any(char.isdigit() for char in password):\n",
    "        print(\"Password must contain at least one digit.\")\n",
    "        is_valid = False\n",
    "\n",
    "    if not any(not char.isalnum() for char in password):\n",
    "        print(\"Password must contain at least one special character.\")\n",
    "        is_valid = False\n",
    "\n",
    "    if is_valid:\n",
    "        print(\"Password is valid.\")\n",
    "\n",
    "password = input(\"Enter a password: \")\n",
    "password_validator(password)"
   ]
  },
  {
   "cell_type": "code",
   "execution_count": null,
   "id": "852979cc-54e0-4fe0-bb70-a90ff21d8260",
   "metadata": {},
   "outputs": [],
   "source": []
  }
 ],
 "metadata": {
  "kernelspec": {
   "display_name": "Python 3 (ipykernel)",
   "language": "python",
   "name": "python3"
  },
  "language_info": {
   "codemirror_mode": {
    "name": "ipython",
    "version": 3
   },
   "file_extension": ".py",
   "mimetype": "text/x-python",
   "name": "python",
   "nbconvert_exporter": "python",
   "pygments_lexer": "ipython3",
   "version": "3.12.4"
  }
 },
 "nbformat": 4,
 "nbformat_minor": 5
}
