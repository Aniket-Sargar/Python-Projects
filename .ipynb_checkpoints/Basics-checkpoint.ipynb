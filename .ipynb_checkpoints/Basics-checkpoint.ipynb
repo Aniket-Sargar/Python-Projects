{
 "cells": [
  {
   "cell_type": "code",
   "execution_count": 1,
   "id": "b56ea864-f679-4f6f-9277-968ea2376ef1",
   "metadata": {},
   "outputs": [
    {
     "name": "stdout",
     "output_type": "stream",
     "text": [
      "Hellow, World!\n"
     ]
    }
   ],
   "source": [
    "print(\"Hellow, World!\")"
   ]
  },
  {
   "cell_type": "code",
   "execution_count": null,
   "id": "046ae43a-d996-4c4c-8815-83257b7b51ce",
   "metadata": {},
   "outputs": [],
   "source": [
    "Extension pf python f114\n",
    "1. .py\n",
    "2. .ipynb"
   ]
  },
  {
   "cell_type": "code",
   "execution_count": null,
   "id": "2e4abf86-6c31-4e49-a3ec-cf3b21f6d1ac",
   "metadata": {},
   "outputs": [],
   "source": [
    "Data Types\n",
    "1.Integer\n",
    "2.float\n",
    "3.String\n",
    "4.Complex-3+4j\n",
    "5.Boolean-True & false"
   ]
  },
  {
   "cell_type": "code",
   "execution_count": null,
   "id": "42835435-618b-4108-bd88-ebbd6f59ae5b",
   "metadata": {},
   "outputs": [],
   "source": [
    "Data structures\n",
    "1. List-[]\n",
    "- -Mutable-changable\n",
    "--index-position\n",
    "- -start Oth index\n",
    "2. Tuple -()\n",
    "-- Immutable-unchangable\n",
    "-- It is a data structure\n",
    "3.Set-O\n",
    "4. Dictlonary-dict-(key:value)"
   ]
  },
  {
   "cell_type": "code",
   "execution_count": null,
   "id": "691e2839-941f-4144-a9af-fa37a58aa272",
   "metadata": {},
   "outputs": [],
   "source": [
    "Identifiers\n",
    "1. Variables\n",
    "2. Functions\n",
    "3. Class name "
   ]
  },
  {
   "cell_type": "code",
   "execution_count": null,
   "id": "954aeac5-0bca-4b37-bde1-5c9d57bf5a7d",
   "metadata": {},
   "outputs": [],
   "source": [
    "Case Rule\n",
    "1. Camel case\n",
    "firstName\n",
    "e.eBay\n",
    "2. Pascal Case\n",
    "FirstName \n",
    "e.g.YouTube\n",
    "    PhonePe\n",
    "3. Snake Case\n",
    "first_name"
   ]
  },
  {
   "cell_type": "code",
   "execution_count": 3,
   "id": "b18fabae-6a76-46f6-b645-ac10c1ed13b7",
   "metadata": {},
   "outputs": [
    {
     "name": "stdout",
     "output_type": "stream",
     "text": [
      "19\n"
     ]
    }
   ],
   "source": [
    "age = 19\n",
    "print(age)"
   ]
  },
  {
   "cell_type": "code",
   "execution_count": 5,
   "id": "cc87f3f3-e41e-4780-bbcc-61234645e2e9",
   "metadata": {},
   "outputs": [
    {
     "data": {
      "text/plain": [
       "20"
      ]
     },
     "execution_count": 5,
     "metadata": {},
     "output_type": "execute_result"
    }
   ],
   "source": [
    "age = 20\n",
    "age"
   ]
  },
  {
   "cell_type": "code",
   "execution_count": 11,
   "id": "d25d6db6-8fb2-4452-b277-890c420ec26c",
   "metadata": {},
   "outputs": [
    {
     "data": {
      "text/plain": [
       "'Aniket'"
      ]
     },
     "execution_count": 11,
     "metadata": {},
     "output_type": "execute_result"
    }
   ],
   "source": [
    "Name = 'Aniket'\n",
    "Name"
   ]
  },
  {
   "cell_type": "code",
   "execution_count": 9,
   "id": "243f8ece-27bf-45fd-af43-58afa0089c0c",
   "metadata": {},
   "outputs": [
    {
     "data": {
      "text/plain": [
       "str"
      ]
     },
     "execution_count": 9,
     "metadata": {},
     "output_type": "execute_result"
    }
   ],
   "source": [
    "type(Name)"
   ]
  },
  {
   "cell_type": "code",
   "execution_count": 21,
   "id": "50fedd26-0cdc-47ce-9925-abf2db4507be",
   "metadata": {},
   "outputs": [
    {
     "data": {
      "text/plain": [
       "float"
      ]
     },
     "execution_count": 21,
     "metadata": {},
     "output_type": "execute_result"
    }
   ],
   "source": [
    "Price = 2.50\n",
    "type(Price)"
   ]
  },
  {
   "cell_type": "code",
   "execution_count": 23,
   "id": "2cf9de83-0da1-49ee-9c1f-ddd3dec43423",
   "metadata": {},
   "outputs": [
    {
     "data": {
      "text/plain": [
       "2.5"
      ]
     },
     "execution_count": 23,
     "metadata": {},
     "output_type": "execute_result"
    }
   ],
   "source": [
    "Price"
   ]
  },
  {
   "cell_type": "code",
   "execution_count": 27,
   "id": "812afbb6-c524-4df5-863b-de3eafa42913",
   "metadata": {},
   "outputs": [
    {
     "data": {
      "text/plain": [
       "(3+4j)"
      ]
     },
     "execution_count": 27,
     "metadata": {},
     "output_type": "execute_result"
    }
   ],
   "source": [
    "Complex_No= 3+4j\n",
    "Complex_No"
   ]
  },
  {
   "cell_type": "code",
   "execution_count": 29,
   "id": "1cf34cc8-aa3f-4221-9257-74c550191d49",
   "metadata": {},
   "outputs": [
    {
     "data": {
      "text/plain": [
       "complex"
      ]
     },
     "execution_count": 29,
     "metadata": {},
     "output_type": "execute_result"
    }
   ],
   "source": [
    "type(Complex_No)"
   ]
  },
  {
   "cell_type": "code",
   "execution_count": 34,
   "id": "58158a8d-df28-4d3c-be5e-8b909afacf67",
   "metadata": {},
   "outputs": [],
   "source": [
    "import keyword"
   ]
  },
  {
   "cell_type": "code",
   "execution_count": 36,
   "id": "7d7bd16f-5306-462b-aa04-ff045a4399fb",
   "metadata": {},
   "outputs": [
    {
     "data": {
      "text/plain": [
       "['False',\n",
       " 'None',\n",
       " 'True',\n",
       " 'and',\n",
       " 'as',\n",
       " 'assert',\n",
       " 'async',\n",
       " 'await',\n",
       " 'break',\n",
       " 'class',\n",
       " 'continue',\n",
       " 'def',\n",
       " 'del',\n",
       " 'elif',\n",
       " 'else',\n",
       " 'except',\n",
       " 'finally',\n",
       " 'for',\n",
       " 'from',\n",
       " 'global',\n",
       " 'if',\n",
       " 'import',\n",
       " 'in',\n",
       " 'is',\n",
       " 'lambda',\n",
       " 'nonlocal',\n",
       " 'not',\n",
       " 'or',\n",
       " 'pass',\n",
       " 'raise',\n",
       " 'return',\n",
       " 'try',\n",
       " 'while',\n",
       " 'with',\n",
       " 'yield']"
      ]
     },
     "execution_count": 36,
     "metadata": {},
     "output_type": "execute_result"
    }
   ],
   "source": [
    "keyword.kwlist"
   ]
  },
  {
   "cell_type": "code",
   "execution_count": 38,
   "id": "f0e399ab-6b86-4916-8f2a-7057c0c317df",
   "metadata": {},
   "outputs": [
    {
     "ename": "SyntaxError",
     "evalue": "assignment to yield expression not possible (3742766426.py, line 1)",
     "output_type": "error",
     "traceback": [
      "\u001b[0;36m  Cell \u001b[0;32mIn[38], line 1\u001b[0;36m\u001b[0m\n\u001b[0;31m    yield=50\u001b[0m\n\u001b[0m    ^\u001b[0m\n\u001b[0;31mSyntaxError\u001b[0m\u001b[0;31m:\u001b[0m assignment to yield expression not possible\n"
     ]
    }
   ],
   "source": [
    "yield=50\n",
    "yield"
   ]
  },
  {
   "cell_type": "code",
   "execution_count": 40,
   "id": "bfc838f5-d34d-4ce3-a241-b8a868106ab9",
   "metadata": {},
   "outputs": [
    {
     "data": {
      "text/plain": [
       "True"
      ]
     },
     "execution_count": 40,
     "metadata": {},
     "output_type": "execute_result"
    }
   ],
   "source": [
    "Q = True\n",
    "Q"
   ]
  },
  {
   "cell_type": "code",
   "execution_count": 42,
   "id": "e11380dd-ad68-4ae5-ac24-271d37716010",
   "metadata": {},
   "outputs": [
    {
     "data": {
      "text/plain": [
       "bool"
      ]
     },
     "execution_count": 42,
     "metadata": {},
     "output_type": "execute_result"
    }
   ],
   "source": [
    "type(Q)"
   ]
  },
  {
   "cell_type": "code",
   "execution_count": 48,
   "id": "01c1737e-e0bd-4f0e-9928-0fa754cd7301",
   "metadata": {},
   "outputs": [
    {
     "data": {
      "text/plain": [
       "4305016696"
      ]
     },
     "execution_count": 48,
     "metadata": {},
     "output_type": "execute_result"
    }
   ],
   "source": [
    "id(Q)"
   ]
  },
  {
   "cell_type": "code",
   "execution_count": 50,
   "id": "054dd86a-6a4b-4495-b880-50df74938183",
   "metadata": {},
   "outputs": [
    {
     "data": {
      "text/plain": [
       "4373694864"
      ]
     },
     "execution_count": 50,
     "metadata": {},
     "output_type": "execute_result"
    }
   ],
   "source": [
    "id(Name)"
   ]
  },
  {
   "cell_type": "code",
   "execution_count": 3,
   "id": "827c752f-6835-4a93-b5e4-3686c8d933e6",
   "metadata": {},
   "outputs": [
    {
     "data": {
      "text/plain": [
       "[]"
      ]
     },
     "execution_count": 3,
     "metadata": {},
     "output_type": "execute_result"
    }
   ],
   "source": [
    "py_list = []\n",
    "py_list"
   ]
  },
  {
   "cell_type": "code",
   "execution_count": 5,
   "id": "3ce4eb11-24e0-47c3-a5fc-dfa45cf68348",
   "metadata": {},
   "outputs": [
    {
     "data": {
      "text/plain": [
       "list"
      ]
     },
     "execution_count": 5,
     "metadata": {},
     "output_type": "execute_result"
    }
   ],
   "source": [
    "type(py_list)"
   ]
  },
  {
   "cell_type": "code",
   "execution_count": 7,
   "id": "ebdb8bf6-6454-4494-92e6-c6404557a976",
   "metadata": {},
   "outputs": [
    {
     "data": {
      "text/plain": [
       "[1, 2, 3, 4]"
      ]
     },
     "execution_count": 7,
     "metadata": {},
     "output_type": "execute_result"
    }
   ],
   "source": [
    "py_homom = [1,2,3,4]\n",
    "py_homom"
   ]
  },
  {
   "cell_type": "code",
   "execution_count": 11,
   "id": "a420cd25-425d-445c-8c1e-646b7ca21114",
   "metadata": {},
   "outputs": [
    {
     "data": {
      "text/plain": [
       "[1, 3, 14, 'Python', (4+3j)]"
      ]
     },
     "execution_count": 11,
     "metadata": {},
     "output_type": "execute_result"
    }
   ],
   "source": [
    "py_hetro = [1,3,14,'Python',4+3j]\n",
    "py_hetro"
   ]
  },
  {
   "cell_type": "code",
   "execution_count": 17,
   "id": "38613951-ffe7-409e-835f-5fb9ea9265ca",
   "metadata": {},
   "outputs": [
    {
     "data": {
      "text/plain": [
       "[True]"
      ]
     },
     "execution_count": 17,
     "metadata": {},
     "output_type": "execute_result"
    }
   ],
   "source": [
    "py_hetro = [True]\n",
    "py_hetro"
   ]
  },
  {
   "cell_type": "code",
   "execution_count": 19,
   "id": "76886f0d-a1f7-4d6f-b272-d5ef36f68e4b",
   "metadata": {},
   "outputs": [
    {
     "data": {
      "text/plain": [
       "list"
      ]
     },
     "execution_count": 19,
     "metadata": {},
     "output_type": "execute_result"
    }
   ],
   "source": [
    "type(py_hetro)"
   ]
  },
  {
   "cell_type": "code",
   "execution_count": 21,
   "id": "bdb974dd-6bf3-420c-b777-c69ca18a9fc6",
   "metadata": {},
   "outputs": [
    {
     "data": {
      "text/plain": [
       "3"
      ]
     },
     "execution_count": 21,
     "metadata": {},
     "output_type": "execute_result"
    }
   ],
   "source": [
    "py_homom[2]"
   ]
  },
  {
   "cell_type": "code",
   "execution_count": 23,
   "id": "8747c23f-e3f2-4409-93b6-b1030a20d017",
   "metadata": {},
   "outputs": [
    {
     "data": {
      "text/plain": [
       "4"
      ]
     },
     "execution_count": 23,
     "metadata": {},
     "output_type": "execute_result"
    }
   ],
   "source": [
    "py_homom[-1]"
   ]
  },
  {
   "cell_type": "code",
   "execution_count": null,
   "id": "683fc811-5d4d-4bbd-a547-e7e2441e3aa5",
   "metadata": {},
   "outputs": [],
   "source": [
    "1. Append\n",
    "- It is used to add single element at the same time."
   ]
  },
  {
   "cell_type": "code",
   "execution_count": 31,
   "id": "c794d0dd-a984-4f78-9492-7ae438240aa4",
   "metadata": {},
   "outputs": [
    {
     "data": {
      "text/plain": [
       "[1, 3, 4, 'Python']"
      ]
     },
     "execution_count": 31,
     "metadata": {},
     "output_type": "execute_result"
    }
   ],
   "source": [
    "py_list = [1,3,4,'Python']\n",
    "py_list"
   ]
  },
  {
   "cell_type": "code",
   "execution_count": 37,
   "id": "c17081cd-9c75-44dd-ae48-901a2dd19919",
   "metadata": {},
   "outputs": [
    {
     "data": {
      "text/plain": [
       "[1, 3, 4, 'Python', 100]"
      ]
     },
     "execution_count": 37,
     "metadata": {},
     "output_type": "execute_result"
    }
   ],
   "source": [
    "py_list.append(100)\n",
    "py_list"
   ]
  },
  {
   "cell_type": "code",
   "execution_count": null,
   "id": "8bbc3d2d-cca8-4742-af2c-71e950e79593",
   "metadata": {},
   "outputs": [],
   "source": [
    "2.Extend\n",
    "- It is used to add multiple element at the same time and it inserts the element at the last of the list."
   ]
  },
  {
   "cell_type": "code",
   "execution_count": 41,
   "id": "ddc95ecd-53de-456c-8c05-cbcdf1d6c57f",
   "metadata": {},
   "outputs": [
    {
     "data": {
      "text/plain": [
       "[1, 3, 4, 'Python', 100, 23, 'Python1', (3+5j)]"
      ]
     },
     "execution_count": 41,
     "metadata": {},
     "output_type": "execute_result"
    }
   ],
   "source": [
    "py_list.extend([23,'Python1',3+5j])\n",
    "py_list"
   ]
  },
  {
   "cell_type": "code",
   "execution_count": null,
   "id": "772ec299-9717-45d1-8ee2-e4b9ea10fca7",
   "metadata": {},
   "outputs": [],
   "source": [
    "3.Insert\n",
    "- Use to insert a specific element to the given position. "
   ]
  },
  {
   "cell_type": "code",
   "execution_count": 43,
   "id": "f4ab98d6-4ce3-422b-a0e8-ae6aae42156b",
   "metadata": {},
   "outputs": [
    {
     "data": {
      "text/plain": [
       "[1, 3, 4, 'Python', 100, 23, 'Python1', (3+5j), 'ADYPU']"
      ]
     },
     "execution_count": 43,
     "metadata": {},
     "output_type": "execute_result"
    }
   ],
   "source": [
    "py_list.extend(['ADYPU',])\n",
    "py_list"
   ]
  },
  {
   "cell_type": "code",
   "execution_count": 45,
   "id": "4c72d658-752c-4cb4-ac3f-15f2e69b1149",
   "metadata": {},
   "outputs": [
    {
     "data": {
      "text/plain": [
       "[1, 3, 'iNature', 4, 'Python', 100, 23, 'Python1', (3+5j), 'ADYPU']"
      ]
     },
     "execution_count": 45,
     "metadata": {},
     "output_type": "execute_result"
    }
   ],
   "source": [
    "py_list.insert(2,'iNature')\n",
    "py_list"
   ]
  },
  {
   "cell_type": "code",
   "execution_count": null,
   "id": "c6773fe9-b5ff-48d4-9108-b4d6f6ad504c",
   "metadata": {},
   "outputs": [],
   "source": [
    "4. Clear\n",
    "- Used for to clear the list."
   ]
  },
  {
   "cell_type": "code",
   "execution_count": 47,
   "id": "e4164fb3-384d-461e-9c32-1bcbb1e71ad3",
   "metadata": {},
   "outputs": [
    {
     "data": {
      "text/plain": [
       "[]"
      ]
     },
     "execution_count": 47,
     "metadata": {},
     "output_type": "execute_result"
    }
   ],
   "source": [
    "py_list.clear()\n",
    "py_list"
   ]
  },
  {
   "cell_type": "code",
   "execution_count": 5,
   "id": "cdbf43b2-2d60-4255-852d-130ba26e54fa",
   "metadata": {},
   "outputs": [
    {
     "name": "stdin",
     "output_type": "stream",
     "text": [
      " 5\n"
     ]
    },
    {
     "name": "stdout",
     "output_type": "stream",
     "text": [
      "Weird\n"
     ]
    }
   ],
   "source": [
    "n = int(input().strip())\n",
    "if n%2 != 0:\n",
    "    print(\"Weird\")\n",
    "elif n%2 == 0 and n>2 and n<=5:\n",
    "    print(\"Not Weird\")\n",
    "elif n%2 ==0 and n > 6 and n <=20:\n",
    "    print(\"Weird\")\n",
    "else:\n",
    "    print(\"Not Weird\")\n"
   ]
  },
  {
   "cell_type": "code",
   "execution_count": null,
   "id": "fd419844-d724-4af4-b86f-67fa60b93c2c",
   "metadata": {},
   "outputs": [],
   "source": [
    "4. Count"
   ]
  },
  {
   "cell_type": "code",
   "execution_count": 1,
   "id": "cb2cbd37-2be1-4162-b85c-7448d46d40fe",
   "metadata": {},
   "outputs": [
    {
     "data": {
      "text/plain": [
       "[1, 1, 1, 2, 2, 3, 3, 4, 5, True, False]"
      ]
     },
     "execution_count": 1,
     "metadata": {},
     "output_type": "execute_result"
    }
   ],
   "source": [
    "py_list = [1,1,1,2,2,3,3,4,5,True,False]\n",
    "py_list"
   ]
  },
  {
   "cell_type": "code",
   "execution_count": 3,
   "id": "61bf210c-b4cf-4b20-843a-6671c9a0d99b",
   "metadata": {},
   "outputs": [
    {
     "data": {
      "text/plain": [
       "4"
      ]
     },
     "execution_count": 3,
     "metadata": {},
     "output_type": "execute_result"
    }
   ],
   "source": [
    "py_list.count(1)"
   ]
  },
  {
   "cell_type": "code",
   "execution_count": 5,
   "id": "070406d4-bbe3-4784-bad9-b7dd9f3e90e7",
   "metadata": {},
   "outputs": [
    {
     "data": {
      "text/plain": [
       "1"
      ]
     },
     "execution_count": 5,
     "metadata": {},
     "output_type": "execute_result"
    }
   ],
   "source": [
    "py_list.count(0)"
   ]
  },
  {
   "cell_type": "code",
   "execution_count": null,
   "id": "db1d0d8b-b234-47ff-8052-311e9993942e",
   "metadata": {},
   "outputs": [],
   "source": [
    "list_name.count(element)"
   ]
  },
  {
   "cell_type": "code",
   "execution_count": null,
   "id": "06dfd1be-137c-4443-8a45-a6f036b54479",
   "metadata": {},
   "outputs": [],
   "source": [
    "5. index\n",
    "-It is used to find the index of the element and it will return the first index of the element."
   ]
  },
  {
   "cell_type": "code",
   "execution_count": 7,
   "id": "a7610085-4e7b-44c2-bc9a-376f2eb91635",
   "metadata": {},
   "outputs": [
    {
     "data": {
      "text/plain": [
       "3"
      ]
     },
     "execution_count": 7,
     "metadata": {},
     "output_type": "execute_result"
    }
   ],
   "source": [
    "py_list.index(2)"
   ]
  },
  {
   "cell_type": "code",
   "execution_count": 9,
   "id": "af915dcd-bfbc-465e-bec2-8eaccb29558b",
   "metadata": {},
   "outputs": [
    {
     "data": {
      "text/plain": [
       "0"
      ]
     },
     "execution_count": 9,
     "metadata": {},
     "output_type": "execute_result"
    }
   ],
   "source": [
    "py_list.index(True)"
   ]
  },
  {
   "cell_type": "code",
   "execution_count": 13,
   "id": "c5b45c2d-6897-4f91-b96e-e37d92288f89",
   "metadata": {},
   "outputs": [
    {
     "data": {
      "text/plain": [
       "10"
      ]
     },
     "execution_count": 13,
     "metadata": {},
     "output_type": "execute_result"
    }
   ],
   "source": [
    "py_list.index(False)"
   ]
  },
  {
   "cell_type": "code",
   "execution_count": null,
   "id": "38663460-3582-479e-8fbc-1eed31bc675e",
   "metadata": {},
   "outputs": [],
   "source": [
    "To remove or delete the elemrnt from the list\n",
    "1. pop()\n",
    "2. remove()\n",
    "3. clear()"
   ]
  },
  {
   "cell_type": "code",
   "execution_count": null,
   "id": "5ae86a5b-357f-4b19-9f91-f3e8566cb29a",
   "metadata": {},
   "outputs": [],
   "source": [
    "1. Pop()\n",
    "py_list.pop()\n",
    "-it is use to remove to element from the list using the index no. and it will returned\n",
    "- By defult it will take index -1"
   ]
  },
  {
   "cell_type": "code",
   "execution_count": 15,
   "id": "46e9d1aa-63c8-44d0-9c4d-0d2c30a75109",
   "metadata": {},
   "outputs": [
    {
     "data": {
      "text/plain": [
       "1"
      ]
     },
     "execution_count": 15,
     "metadata": {},
     "output_type": "execute_result"
    }
   ],
   "source": [
    "py_list.pop(False)"
   ]
  },
  {
   "cell_type": "code",
   "execution_count": 17,
   "id": "7219948c-38ce-40a4-b17e-92bffcea22df",
   "metadata": {},
   "outputs": [
    {
     "data": {
      "text/plain": [
       "[1, 1, 2, 2, 3, 3, 4, 5, True, False]"
      ]
     },
     "execution_count": 17,
     "metadata": {},
     "output_type": "execute_result"
    }
   ],
   "source": [
    "py_list"
   ]
  },
  {
   "cell_type": "code",
   "execution_count": 19,
   "id": "fd61f0cb-52eb-42a5-8530-d15b62c10d19",
   "metadata": {},
   "outputs": [
    {
     "data": {
      "text/plain": [
       "1"
      ]
     },
     "execution_count": 19,
     "metadata": {},
     "output_type": "execute_result"
    }
   ],
   "source": [
    "py_list.pop(False)"
   ]
  },
  {
   "cell_type": "code",
   "execution_count": 21,
   "id": "923ad542-e2dd-4ca5-a5a7-6a60a7a7712e",
   "metadata": {},
   "outputs": [
    {
     "data": {
      "text/plain": [
       "[1, 2, 2, 3, 3, 4, 5, True, False]"
      ]
     },
     "execution_count": 21,
     "metadata": {},
     "output_type": "execute_result"
    }
   ],
   "source": [
    "py_list"
   ]
  },
  {
   "cell_type": "code",
   "execution_count": 23,
   "id": "f98bf8a2-7358-4319-908d-7195aa9d5869",
   "metadata": {},
   "outputs": [
    {
     "data": {
      "text/plain": [
       "2"
      ]
     },
     "execution_count": 23,
     "metadata": {},
     "output_type": "execute_result"
    }
   ],
   "source": [
    "py_list.pop(True)"
   ]
  },
  {
   "cell_type": "code",
   "execution_count": 25,
   "id": "33c26c6c-21e3-4573-94e1-3fbf61465038",
   "metadata": {},
   "outputs": [
    {
     "data": {
      "text/plain": [
       "[1, 2, 3, 3, 4, 5, True, False]"
      ]
     },
     "execution_count": 25,
     "metadata": {},
     "output_type": "execute_result"
    }
   ],
   "source": [
    "py_list"
   ]
  },
  {
   "cell_type": "code",
   "execution_count": 28,
   "id": "44d10596-e7fd-4f57-bb39-da1c714e471b",
   "metadata": {},
   "outputs": [
    {
     "data": {
      "text/plain": [
       "False"
      ]
     },
     "execution_count": 28,
     "metadata": {},
     "output_type": "execute_result"
    }
   ],
   "source": [
    "py_list.pop()"
   ]
  },
  {
   "cell_type": "code",
   "execution_count": 30,
   "id": "0a865744-352a-44f4-b8f2-e84795417128",
   "metadata": {},
   "outputs": [
    {
     "data": {
      "text/plain": [
       "[1, 2, 3, 3, 4, 5, True]"
      ]
     },
     "execution_count": 30,
     "metadata": {},
     "output_type": "execute_result"
    }
   ],
   "source": [
    "py_list"
   ]
  },
  {
   "cell_type": "code",
   "execution_count": 36,
   "id": "769fb40d-65b8-4217-8a50-29ac049f151c",
   "metadata": {},
   "outputs": [
    {
     "data": {
      "text/plain": [
       "5"
      ]
     },
     "execution_count": 36,
     "metadata": {},
     "output_type": "execute_result"
    }
   ],
   "source": [
    "py_list.pop(5)"
   ]
  },
  {
   "cell_type": "code",
   "execution_count": 38,
   "id": "743790c3-63d5-4533-bdaf-67009e060d28",
   "metadata": {},
   "outputs": [
    {
     "data": {
      "text/plain": [
       "[1, 2, 3, 3, 4]"
      ]
     },
     "execution_count": 38,
     "metadata": {},
     "output_type": "execute_result"
    }
   ],
   "source": [
    "py_list"
   ]
  },
  {
   "cell_type": "code",
   "execution_count": 40,
   "id": "6350b379-1bac-42f9-83ac-08848454acb3",
   "metadata": {},
   "outputs": [
    {
     "data": {
      "text/plain": [
       "3"
      ]
     },
     "execution_count": 40,
     "metadata": {},
     "output_type": "execute_result"
    }
   ],
   "source": [
    "py_list.pop(3)"
   ]
  },
  {
   "cell_type": "code",
   "execution_count": 42,
   "id": "5d6ea3d8-f9e2-43fe-8b72-641e58782fbd",
   "metadata": {},
   "outputs": [
    {
     "data": {
      "text/plain": [
       "[1, 2, 3, 4]"
      ]
     },
     "execution_count": 42,
     "metadata": {},
     "output_type": "execute_result"
    }
   ],
   "source": [
    "py_list"
   ]
  },
  {
   "cell_type": "code",
   "execution_count": null,
   "id": "d2c3d696-1249-4a85-85d2-5de78742b919",
   "metadata": {},
   "outputs": [],
   "source": [
    "2. Remove()\n",
    "-It is use to remove element from the list & yo we have top pass element from the list.\n",
    "-If it has multipl same value it will remove the first occurance element."
   ]
  },
  {
   "cell_type": "code",
   "execution_count": 48,
   "id": "3cec9e15-bb03-408f-9c90-85e7c1cd74f4",
   "metadata": {},
   "outputs": [
    {
     "data": {
      "text/plain": [
       "[1, 1, 1, 2, 2, 4, 4, 5, True, True, False]"
      ]
     },
     "execution_count": 48,
     "metadata": {},
     "output_type": "execute_result"
    }
   ],
   "source": [
    "py_list1 = [1,1,1,2,2,4,4,5,True,True,False]\n",
    "py_list1"
   ]
  },
  {
   "cell_type": "code",
   "execution_count": null,
   "id": "daa056ef-a39a-486d-a053-59b13afd93e8",
   "metadata": {},
   "outputs": [],
   "source": [
    "py_list1.remove(False)"
   ]
  },
  {
   "cell_type": "code",
   "execution_count": 56,
   "id": "215ae03e-43f5-4ffb-b963-4503d2ac05fe",
   "metadata": {},
   "outputs": [
    {
     "data": {
      "text/plain": [
       "[1, 1, 1, 2, 2, 4, 4, 5, True, True]"
      ]
     },
     "execution_count": 56,
     "metadata": {},
     "output_type": "execute_result"
    }
   ],
   "source": [
    "py_list1"
   ]
  },
  {
   "cell_type": "code",
   "execution_count": 58,
   "id": "54ec090e-e1b6-4c6b-87b7-e20e27be8824",
   "metadata": {},
   "outputs": [],
   "source": [
    "py_list1.remove(1)\n"
   ]
  },
  {
   "cell_type": "code",
   "execution_count": 60,
   "id": "450b9ee0-0824-4558-b307-05589e329cd6",
   "metadata": {},
   "outputs": [
    {
     "data": {
      "text/plain": [
       "[1, 1, 2, 2, 4, 4, 5, True, True]"
      ]
     },
     "execution_count": 60,
     "metadata": {},
     "output_type": "execute_result"
    }
   ],
   "source": [
    "py_list1\n"
   ]
  },
  {
   "cell_type": "code",
   "execution_count": 62,
   "id": "7fdf1195-d4be-4546-a101-5c5165b844c1",
   "metadata": {},
   "outputs": [],
   "source": [
    "py_list1.remove(5)\n"
   ]
  },
  {
   "cell_type": "code",
   "execution_count": 64,
   "id": "1dd2bd88-248b-44b9-9903-81a614e62055",
   "metadata": {},
   "outputs": [
    {
     "data": {
      "text/plain": [
       "[1, 1, 2, 2, 4, 4, True, True]"
      ]
     },
     "execution_count": 64,
     "metadata": {},
     "output_type": "execute_result"
    }
   ],
   "source": [
    "py_list1\n"
   ]
  },
  {
   "cell_type": "code",
   "execution_count": null,
   "id": "2d18461a-aec0-4f9d-a461-45fcdf8ca071",
   "metadata": {},
   "outputs": [],
   "source": [
    "3. Reverse"
   ]
  },
  {
   "cell_type": "code",
   "execution_count": 1,
   "id": "89e2d796-9a92-4aa0-b255-5e21d99f5e01",
   "metadata": {},
   "outputs": [
    {
     "data": {
      "text/plain": [
       "[1, 1, 1, 2, 8, 4, 5, 3, True, False, True, 10, 48]"
      ]
     },
     "execution_count": 1,
     "metadata": {},
     "output_type": "execute_result"
    }
   ],
   "source": [
    "py_list1=[1,1,1,2,8,4,5,3,True,False,True,10,48]\n",
    "py_list1"
   ]
  },
  {
   "cell_type": "code",
   "execution_count": 3,
   "id": "f339cae2-7fb0-4d42-8305-8cf7431ec9d5",
   "metadata": {},
   "outputs": [],
   "source": [
    "py_list1.reverse()"
   ]
  },
  {
   "cell_type": "code",
   "execution_count": 5,
   "id": "72569c97-be58-4be3-ae3a-3926e3bb55ea",
   "metadata": {},
   "outputs": [
    {
     "data": {
      "text/plain": [
       "[48, 10, True, False, True, 3, 5, 4, 8, 2, 1, 1, 1]"
      ]
     },
     "execution_count": 5,
     "metadata": {},
     "output_type": "execute_result"
    }
   ],
   "source": [
    "py_list1"
   ]
  },
  {
   "cell_type": "code",
   "execution_count": null,
   "id": "47e4e8f7-9fb5-4f06-8c91-271a74468620",
   "metadata": {},
   "outputs": [],
   "source": [
    "4. Sort\n",
    "Ued to sort the elements of the list in ascending or decending order and list should be homogenious.\n",
    "#if you not put ascending order or decending order it will always print ascending order."
   ]
  },
  {
   "cell_type": "code",
   "execution_count": null,
   "id": "35d22ce9-ecdd-472a-ad48-7e8f86d8364c",
   "metadata": {},
   "outputs": [],
   "source": [
    "Sort in ascending order."
   ]
  },
  {
   "cell_type": "code",
   "execution_count": 7,
   "id": "5e85c9b1-02ba-4706-8e6c-90d5fffb38f4",
   "metadata": {},
   "outputs": [],
   "source": [
    "py_list1.sort()"
   ]
  },
  {
   "cell_type": "code",
   "execution_count": 9,
   "id": "b2c582a1-e43a-4405-8255-5e3d6ff5a1a3",
   "metadata": {},
   "outputs": [
    {
     "data": {
      "text/plain": [
       "[False, True, True, 1, 1, 1, 2, 3, 4, 5, 8, 10, 48]"
      ]
     },
     "execution_count": 9,
     "metadata": {},
     "output_type": "execute_result"
    }
   ],
   "source": [
    "py_list1"
   ]
  },
  {
   "cell_type": "code",
   "execution_count": null,
   "id": "407552f4-e9fc-4a19-95ea-9b8c811e9ec8",
   "metadata": {},
   "outputs": [],
   "source": [
    "Sort in decending order."
   ]
  },
  {
   "cell_type": "code",
   "execution_count": 11,
   "id": "60e424fb-f79e-4167-b55f-baeb191d6715",
   "metadata": {},
   "outputs": [],
   "source": [
    "py_list1.sort(reverse=True)"
   ]
  },
  {
   "cell_type": "code",
   "execution_count": 13,
   "id": "b018e35a-0fde-4b33-a6ca-31a43c8045b5",
   "metadata": {},
   "outputs": [
    {
     "data": {
      "text/plain": [
       "[48, 10, 8, 5, 4, 3, 2, True, True, 1, 1, 1, False]"
      ]
     },
     "execution_count": 13,
     "metadata": {},
     "output_type": "execute_result"
    }
   ],
   "source": [
    "py_list1"
   ]
  },
  {
   "cell_type": "code",
   "execution_count": null,
   "id": "4ef9fc7d-6946-4552-a30d-27f9a7e3495b",
   "metadata": {},
   "outputs": [],
   "source": []
  },
  {
   "cell_type": "code",
   "execution_count": null,
   "id": "2df341cf-6db1-427f-bc89-70a7917521e5",
   "metadata": {},
   "outputs": [],
   "source": [
    "- Tuple -()\n",
    "-- Immutable-unchangable.\n",
    "-- It is ordered data structure.\n",
    "-- Index is not possible in Tuple.\n",
    "-- Dublicate elements are allow in Tuple.\n",
    "-- Homogenious and hetrogenious are allow in Tuple.\n",
    "variable_name=(elements)\n"
   ]
  },
  {
   "cell_type": "code",
   "execution_count": 17,
   "id": "ae1cbc3e-0494-4246-afdc-4108b140bbf2",
   "metadata": {},
   "outputs": [
    {
     "data": {
      "text/plain": [
       "()"
      ]
     },
     "execution_count": 17,
     "metadata": {},
     "output_type": "execute_result"
    }
   ],
   "source": [
    "a=() #Empty tuple list\n",
    "a"
   ]
  },
  {
   "cell_type": "code",
   "execution_count": 19,
   "id": "3d0a5466-f070-4127-a1d4-9d2d937a403c",
   "metadata": {},
   "outputs": [
    {
     "data": {
      "text/plain": [
       "tuple"
      ]
     },
     "execution_count": 19,
     "metadata": {},
     "output_type": "execute_result"
    }
   ],
   "source": [
    "type(a)"
   ]
  },
  {
   "cell_type": "code",
   "execution_count": 23,
   "id": "47243c1f-647e-4170-a10d-7a68ae8bc38a",
   "metadata": {},
   "outputs": [
    {
     "data": {
      "text/plain": [
       "(10,)"
      ]
     },
     "execution_count": 23,
     "metadata": {},
     "output_type": "execute_result"
    }
   ],
   "source": [
    "a=(10,)\n",
    "a"
   ]
  },
  {
   "cell_type": "code",
   "execution_count": 33,
   "id": "02670e25-0131-49c0-bd8e-54c641e6acb3",
   "metadata": {},
   "outputs": [
    {
     "data": {
      "text/plain": [
       "(1, 1, 1, 2, 2, True, False, 'Python', (5+8j))"
      ]
     },
     "execution_count": 33,
     "metadata": {},
     "output_type": "execute_result"
    }
   ],
   "source": [
    "py_tuple = (1,1,1,2,2,True,False,'Python',5+8j)\n",
    "py_tuple"
   ]
  },
  {
   "cell_type": "code",
   "execution_count": null,
   "id": "b9fb2c8f-202c-4c31-8b82-7cd6af8cbf54",
   "metadata": {},
   "outputs": [],
   "source": [
    "1. Count\n",
    "Note :- #True is 1 and False is 0."
   ]
  },
  {
   "cell_type": "code",
   "execution_count": 35,
   "id": "a8b11279-72c4-4e05-9a96-a2ca6da20dfb",
   "metadata": {},
   "outputs": [
    {
     "data": {
      "text/plain": [
       "4"
      ]
     },
     "execution_count": 35,
     "metadata": {},
     "output_type": "execute_result"
    }
   ],
   "source": [
    "py_tuple.count(1)"
   ]
  },
  {
   "cell_type": "code",
   "execution_count": null,
   "id": "cee02f9d-32fc-4d84-9545-9338e7dd720b",
   "metadata": {},
   "outputs": [],
   "source": [
    "- Type Casting :-\n",
    "-- Used for Changindg data type to another."
   ]
  },
  {
   "cell_type": "code",
   "execution_count": 41,
   "id": "52c72496-5be7-467d-ad43-413cbe96ecf3",
   "metadata": {},
   "outputs": [
    {
     "data": {
      "text/plain": [
       "(1, 1, 1, 2, 2, True, False, 'Python', (5+8j))"
      ]
     },
     "execution_count": 41,
     "metadata": {},
     "output_type": "execute_result"
    }
   ],
   "source": [
    "py_tuple"
   ]
  },
  {
   "cell_type": "code",
   "execution_count": 51,
   "id": "cfcc4140-166a-4be3-af9e-bb4388c4a929",
   "metadata": {},
   "outputs": [],
   "source": [
    "py_tuple=list(py_tuple) #in this commond we change data type from tuple to list."
   ]
  },
  {
   "cell_type": "code",
   "execution_count": 45,
   "id": "78a897be-12c0-489d-aa16-5f286dc0b4e5",
   "metadata": {},
   "outputs": [
    {
     "data": {
      "text/plain": [
       "[1, 1, 1, 2, 2, True, False, 'Python', (5+8j)]"
      ]
     },
     "execution_count": 45,
     "metadata": {},
     "output_type": "execute_result"
    }
   ],
   "source": [
    "py_tuple"
   ]
  },
  {
   "cell_type": "code",
   "execution_count": 47,
   "id": "bf713ebf-4d43-4884-8c4d-c036258b0cce",
   "metadata": {},
   "outputs": [
    {
     "data": {
      "text/plain": [
       "list"
      ]
     },
     "execution_count": 47,
     "metadata": {},
     "output_type": "execute_result"
    }
   ],
   "source": [
    "type(py_tuple)"
   ]
  },
  {
   "cell_type": "code",
   "execution_count": null,
   "id": "1fbb41b3-5285-4967-827e-39163aeda3e2",
   "metadata": {},
   "outputs": [],
   "source": [
    "#packig And unpacking"
   ]
  },
  {
   "cell_type": "code",
   "execution_count": 65,
   "id": "b1d68d0c-ce07-463b-85eb-6a9bd0720f23",
   "metadata": {},
   "outputs": [
    {
     "data": {
      "text/plain": [
       "(10, 20, 30, 40)"
      ]
     },
     "execution_count": 65,
     "metadata": {},
     "output_type": "execute_result"
    }
   ],
   "source": [
    "#packing - It's automatically data type print in to in tuple(Multipe element are packing in one container)\n",
    "a=10,20,30,40\n",
    "a"
   ]
  },
  {
   "cell_type": "code",
   "execution_count": 63,
   "id": "5ee0fccc-af24-4ef8-859f-b0a0269b5fb4",
   "metadata": {},
   "outputs": [],
   "source": [
    "#unpacking - assigning many variables to the value(packing multiple variables to a single variables)\n",
    "b,c,d,e=a"
   ]
  },
  {
   "cell_type": "code",
   "execution_count": 57,
   "id": "42bbc9bc-ee95-455d-b53c-a9589cf0b1cc",
   "metadata": {},
   "outputs": [
    {
     "name": "stdout",
     "output_type": "stream",
     "text": [
      "10\n",
      "20\n",
      "30\n",
      "40\n"
     ]
    }
   ],
   "source": [
    "print(b)\n",
    "print(c)\n",
    "print(d)\n",
    "print(e)"
   ]
  },
  {
   "cell_type": "code",
   "execution_count": 73,
   "id": "1d513580-9346-42bd-a0a1-45bc4a560c4f",
   "metadata": {},
   "outputs": [
    {
     "name": "stdout",
     "output_type": "stream",
     "text": [
      "10 20\n"
     ]
    }
   ],
   "source": [
    "a,b=10,20\n",
    "print(a,b)"
   ]
  },
  {
   "cell_type": "code",
   "execution_count": null,
   "id": "4009d1d6-11bb-4556-8e64-8ff3f8e9e23a",
   "metadata": {},
   "outputs": [],
   "source": []
  }
 ],
 "metadata": {
  "kernelspec": {
   "display_name": "Python 3 (ipykernel)",
   "language": "python",
   "name": "python3"
  },
  "language_info": {
   "codemirror_mode": {
    "name": "ipython",
    "version": 3
   },
   "file_extension": ".py",
   "mimetype": "text/x-python",
   "name": "python",
   "nbconvert_exporter": "python",
   "pygments_lexer": "ipython3",
   "version": "3.12.4"
  }
 },
 "nbformat": 4,
 "nbformat_minor": 5
}
