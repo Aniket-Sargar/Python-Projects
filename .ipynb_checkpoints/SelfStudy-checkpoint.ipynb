{
 "cells": [
  {
   "cell_type": "code",
   "execution_count": 3,
   "id": "817d2886-676e-4429-b982-5da5b2c9465b",
   "metadata": {},
   "outputs": [
    {
     "name": "stdout",
     "output_type": "stream",
     "text": [
      "@@@@@@\n"
     ]
    }
   ],
   "source": [
    "A,B = 2,3\n",
    "Txt = \"@\"\n",
    "print(A*Txt*B)"
   ]
  },
  {
   "cell_type": "code",
   "execution_count": 5,
   "id": "54619b80-335a-466d-a7f3-c30f9eec7866",
   "metadata": {},
   "outputs": [
    {
     "name": "stdout",
     "output_type": "stream",
     "text": [
      "@@@@@@\n"
     ]
    }
   ],
   "source": [
    "A,B = 2,3\n",
    "Txt = \"@\"\n",
    "print(2*Txt*3)"
   ]
  },
  {
   "cell_type": "code",
   "execution_count": 7,
   "id": "dfb6260f-0461-4617-ac4b-c4c7490701e8",
   "metadata": {},
   "outputs": [
    {
     "name": "stdout",
     "output_type": "stream",
     "text": [
      "2@2@2@\n"
     ]
    }
   ],
   "source": [
    "A,B = \"2\",3\n",
    "Txt = \"@\"\n",
    "print((A+Txt)*3)"
   ]
  },
  {
   "cell_type": "code",
   "execution_count": 9,
   "id": "5279ab92-7651-4222-ad2a-68a854c9da1f",
   "metadata": {},
   "outputs": [
    {
     "name": "stdout",
     "output_type": "stream",
     "text": [
      "14\n"
     ]
    }
   ],
   "source": [
    "A,B = 2,3\n",
    "C = 4\n",
    "print(A+B*C)"
   ]
  },
  {
   "cell_type": "code",
   "execution_count": 11,
   "id": "ea5cd9db-59a2-48d9-9a08-9e37d0a69586",
   "metadata": {},
   "outputs": [
    {
     "name": "stdout",
     "output_type": "stream",
     "text": [
      "50.0\n"
     ]
    }
   ],
   "source": [
    "A,B = 10,5.0\n",
    "C = A*B\n",
    "print(C)"
   ]
  },
  {
   "cell_type": "code",
   "execution_count": 13,
   "id": "fc2d6de5-81c6-435e-af0e-a08979b77e05",
   "metadata": {},
   "outputs": [
    {
     "name": "stdout",
     "output_type": "stream",
     "text": [
      "0.5\n"
     ]
    }
   ],
   "source": [
    "A,B = 1,2\n",
    "C = A/B\n",
    "print(C)"
   ]
  },
  {
   "cell_type": "code",
   "execution_count": 17,
   "id": "6d9cd6d4-81db-4224-9a3c-498fc0ff27be",
   "metadata": {},
   "outputs": [
    {
     "name": "stdout",
     "output_type": "stream",
     "text": [
      "0.0 0.5\n"
     ]
    }
   ],
   "source": [
    "A,B = 1.5,3\n",
    "C = A//B\n",
    "print(C,A/B)"
   ]
  },
  {
   "cell_type": "code",
   "execution_count": 19,
   "id": "520da6fc-b2c2-466a-b05c-5954c0afdc99",
   "metadata": {},
   "outputs": [
    {
     "name": "stdout",
     "output_type": "stream",
     "text": [
      "2\n"
     ]
    }
   ],
   "source": [
    "A,B = 12,5\n",
    "C = A//B\n",
    "print(C)"
   ]
  },
  {
   "cell_type": "code",
   "execution_count": 21,
   "id": "998a305c-96ea-43d1-b06c-64d054c3a43b",
   "metadata": {},
   "outputs": [
    {
     "name": "stdout",
     "output_type": "stream",
     "text": [
      "-3\n"
     ]
    }
   ],
   "source": [
    "A,B = 12,-5\n",
    "C = A//B\n",
    "print(C)"
   ]
  },
  {
   "cell_type": "code",
   "execution_count": 23,
   "id": "b65e174b-2126-4fbe-ad9f-66901f79200e",
   "metadata": {},
   "outputs": [
    {
     "name": "stdout",
     "output_type": "stream",
     "text": [
      "-3\n"
     ]
    }
   ],
   "source": [
    "A,B = -12,5\n",
    "C = A//B\n",
    "print(C)"
   ]
  },
  {
   "cell_type": "code",
   "execution_count": 25,
   "id": "886a68f7-3c40-4cb8-ac8d-7557d4c3b50d",
   "metadata": {},
   "outputs": [
    {
     "name": "stdout",
     "output_type": "stream",
     "text": [
      "1\n"
     ]
    }
   ],
   "source": [
    "A,B = -5,2\n",
    "C = A%B\n",
    "print(C)"
   ]
  },
  {
   "cell_type": "code",
   "execution_count": 27,
   "id": "987afeb6-cad2-4d4a-a610-4523d20926ac",
   "metadata": {},
   "outputs": [
    {
     "name": "stdout",
     "output_type": "stream",
     "text": [
      "1\n"
     ]
    }
   ],
   "source": [
    "A,B = 5,2\n",
    "C = A%B\n",
    "print(C)"
   ]
  },
  {
   "cell_type": "code",
   "execution_count": 29,
   "id": "0d847e42-55b5-4d4e-8009-4e6557e86e79",
   "metadata": {},
   "outputs": [
    {
     "name": "stdout",
     "output_type": "stream",
     "text": [
      "-1\n"
     ]
    }
   ],
   "source": [
    "A,B = 5,-2\n",
    "C = A%B\n",
    "print(C)"
   ]
  },
  {
   "cell_type": "code",
   "execution_count": 33,
   "id": "810c6fb7-9fd9-4e56-8f5f-61166890100e",
   "metadata": {},
   "outputs": [
    {
     "name": "stdin",
     "output_type": "stream",
     "text": [
      "name : Aniket\n"
     ]
    }
   ],
   "source": [
    "name = input(\"name :\")"
   ]
  },
  {
   "cell_type": "code",
   "execution_count": 37,
   "id": "c853f621-d723-469e-a2e9-e5a5f1ebf5ab",
   "metadata": {},
   "outputs": [
    {
     "name": "stdin",
     "output_type": "stream",
     "text": [
      "age : 19\n"
     ]
    }
   ],
   "source": [
    "age = int (input(\"age :\"))"
   ]
  },
  {
   "cell_type": "code",
   "execution_count": 41,
   "id": "72174f2d-c901-4939-9ee5-fe6cd9888a16",
   "metadata": {},
   "outputs": [
    {
     "name": "stdin",
     "output_type": "stream",
     "text": [
      "prize : 200000\n"
     ]
    }
   ],
   "source": [
    "prize = float (input(\"prize :\"))"
   ]
  },
  {
   "cell_type": "code",
   "execution_count": 43,
   "id": "ab500323-843a-4e37-935c-84b60e908372",
   "metadata": {},
   "outputs": [
    {
     "data": {
      "text/plain": [
       "True"
      ]
     },
     "execution_count": 43,
     "metadata": {},
     "output_type": "execute_result"
    }
   ],
   "source": [
    "not True and False or True"
   ]
  },
  {
   "cell_type": "code",
   "execution_count": 45,
   "id": "dca31e61-184e-471b-b58b-4f5c3fb5844a",
   "metadata": {},
   "outputs": [
    {
     "data": {
      "text/plain": [
       "True"
      ]
     },
     "execution_count": 45,
     "metadata": {},
     "output_type": "execute_result"
    }
   ],
   "source": [
    "not False and False or True"
   ]
  },
  {
   "cell_type": "code",
   "execution_count": 47,
   "id": "5a3cb227-d822-4c2e-9585-a6033630cff0",
   "metadata": {},
   "outputs": [
    {
     "data": {
      "text/plain": [
       "False"
      ]
     },
     "execution_count": 47,
     "metadata": {},
     "output_type": "execute_result"
    }
   ],
   "source": [
    "not False and False"
   ]
  },
  {
   "cell_type": "code",
   "execution_count": null,
   "id": "27c2b032-bd15-4fb7-8184-74f2a82fba37",
   "metadata": {},
   "outputs": [],
   "source": [
    "# True and False output --> False\n",
    "# True or False output --> True"
   ]
  },
  {
   "cell_type": "code",
   "execution_count": 49,
   "id": "b22408c0-753b-4d25-b0f3-6208c2979b86",
   "metadata": {},
   "outputs": [
    {
     "data": {
      "text/plain": [
       "True"
      ]
     },
     "execution_count": 49,
     "metadata": {},
     "output_type": "execute_result"
    }
   ],
   "source": [
    "not False or False"
   ]
  },
  {
   "cell_type": "code",
   "execution_count": null,
   "id": "71341844-4c6e-471f-ae3c-e573da99bea3",
   "metadata": {},
   "outputs": [],
   "source": [
    "-Conditional Statment :-\n",
    "if(condition):\n",
    "    statement1\n",
    "elif(condition):\n",
    "    statement2\n",
    "else:\n",
    "    statement3"
   ]
  },
  {
   "cell_type": "code",
   "execution_count": null,
   "id": "8d0a1118-4f53-4a08-9c90-daf91d947a18",
   "metadata": {},
   "outputs": [],
   "source": [
    "Q:1. Red --> \"Stop\"\n",
    "     Green --> \"Go\"\n",
    "     Yellow --> \"Look\"\n",
    "     Blue/White --> \"Light is broken\"\n",
    "Code:-"
   ]
  },
  {
   "cell_type": "code",
   "execution_count": 59,
   "id": "ae258e40-ee9e-4284-9b7a-1336b9ac8d15",
   "metadata": {},
   "outputs": [
    {
     "name": "stdin",
     "output_type": "stream",
     "text": [
      "Enter Light Colour : Yellow\n"
     ]
    },
    {
     "name": "stdout",
     "output_type": "stream",
     "text": [
      "Look\n"
     ]
    }
   ],
   "source": [
    "Light = input(\"Enter Light Colour :\")\n",
    "if(Light == \"Red\"):\n",
    "    print(\"Stop\")\n",
    "elif(Light == \"Green\"):\n",
    "    print(\"Go\")\n",
    "elif(Light == \"Yellow\"):\n",
    "    print(\"Look\")    \n",
    "else:\n",
    "    print(\"Light is broken\")"
   ]
  },
  {
   "cell_type": "code",
   "execution_count": null,
   "id": "48aed59a-5ee5-4cf6-96a4-dbcb3836399e",
   "metadata": {},
   "outputs": [],
   "source": [
    "Q:2. Grades of students.\n",
    "marks >= 90 --> A\n",
    "marks = 90-100 --> A\n",
    "marks = 80 - 89 --> B\n",
    "marks = 70-79 --> C \n",
    "other = D\n",
    "Code:-"
   ]
  },
  {
   "cell_type": "code",
   "execution_count": 85,
   "id": "8a324c6f-6f5f-4cb9-93ea-590a5f2110cd",
   "metadata": {},
   "outputs": [
    {
     "name": "stdin",
     "output_type": "stream",
     "text": [
      "Enter Marks : 98\n"
     ]
    },
    {
     "name": "stdout",
     "output_type": "stream",
     "text": [
      "A\n"
     ]
    }
   ],
   "source": [
    "marks = int(input(\"Enter Marks :\"))\n",
    "if(marks >= 90):\n",
    "    print(\"A\")\n",
    "elif(marks < 90 and marks >= 80):\n",
    "    print(\"B\")\n",
    "elif(marks < 80 and marks >= 70):\n",
    "    print(\"C\")    \n",
    "else:\n",
    "    print(\"D\")   "
   ]
  },
  {
   "cell_type": "code",
   "execution_count": null,
   "id": "54a0c4ef-9634-4a8c-b8c7-65bebee11e77",
   "metadata": {},
   "outputs": [],
   "source": [
    "Q:3. Print output for :\n",
    "A = 5 & G= M\n",
    "A = 2 &G= F\n",
    "Tip : Usinf by not True and False or True [43] output\n",
    "Code :-"
   ]
  },
  {
   "cell_type": "code",
   "execution_count": 93,
   "id": "859bea8d-bbe3-474f-99ac-b7ac16aa5613",
   "metadata": {},
   "outputs": [
    {
     "name": "stdin",
     "output_type": "stream",
     "text": [
      "A :  2\n",
      "M/F :  F\n"
     ]
    },
    {
     "name": "stdout",
     "output_type": "stream",
     "text": [
      "fee is 200\n"
     ]
    }
   ],
   "source": [
    "A = int(input(\"A : \"))\n",
    "G = input (\"M/F : \")\n",
    "if((A == 1 or A == 2) and G == \"M\"):\n",
    "    print(\"fee is 100\")\n",
    "elif(A == 3 or A == 4 or G == \"F\"):\n",
    "    print(\"fee is 200\")\n",
    "elif(A == 5 and G == \"M\"):\n",
    "    print(\"fee is 300\")\n",
    "else:\n",
    "    print (\"no fee\")"
   ]
  },
  {
   "cell_type": "code",
   "execution_count": null,
   "id": "de91a706-5227-4281-be8c-c8a69016aefa",
   "metadata": {},
   "outputs": [],
   "source": [
    "In Conditional Statment :- \n",
    "\n",
    "1. Single Line if/Ternary Operator :-\n",
    "Formate-1 :- <var> = <val1> if <condition> else <val2>\n",
    "Formate-2 :- <sttl> if < condition> else <stt2>\n",
    "\n",
    "2. Clever if/Ternary Operator :-\n",
    "Formate :- ‹var> = (false_val,true_val) [<condition>]"
   ]
  },
  {
   "cell_type": "code",
   "execution_count": null,
   "id": "3f99cd7b-ffc9-4f21-9e3b-55b63085507f",
   "metadata": {},
   "outputs": [],
   "source": [
    "1. Single Line if/Ternary Operator :-"
   ]
  },
  {
   "cell_type": "code",
   "execution_count": 99,
   "id": "22537727-e8ba-464e-bd39-2047f4764f81",
   "metadata": {},
   "outputs": [
    {
     "name": "stdin",
     "output_type": "stream",
     "text": [
      "food :  cake\n"
     ]
    },
    {
     "name": "stdout",
     "output_type": "stream",
     "text": [
      "Yes\n"
     ]
    }
   ],
   "source": [
    "food = input (\"food : \")\n",
    "eat = \"Yes\" if food == \"cake\" else \"no\"\n",
    "print (eat)"
   ]
  },
  {
   "cell_type": "code",
   "execution_count": 105,
   "id": "9a8bfc53-df81-4768-af95-64902def953c",
   "metadata": {},
   "outputs": [
    {
     "name": "stdin",
     "output_type": "stream",
     "text": [
      "food :  jalebi\n"
     ]
    },
    {
     "name": "stdout",
     "output_type": "stream",
     "text": [
      "sweet\n"
     ]
    }
   ],
   "source": [
    "food = input (\"food : \")\n",
    "print(\"sweet\") if food == \"cake\" or food == \"jalebi\" else print(\"not sweet\" )"
   ]
  },
  {
   "cell_type": "code",
   "execution_count": null,
   "id": "f4761919-34c3-481f-af3d-801d7ce63bee",
   "metadata": {},
   "outputs": [],
   "source": [
    "2. Clever if/Ternary Operator :-"
   ]
  },
  {
   "cell_type": "code",
   "execution_count": 21,
   "id": "ead8c061-420c-43ee-bd8e-39538d0e3941",
   "metadata": {},
   "outputs": [
    {
     "name": "stdin",
     "output_type": "stream",
     "text": [
      "age :  18\n"
     ]
    },
    {
     "name": "stdout",
     "output_type": "stream",
     "text": [
      "yes\n"
     ]
    }
   ],
   "source": [
    "age = int(input(\"age : \"))\n",
    "vote = (\"yes\", \"no\") [age < 18]\n",
    "print(vote)"
   ]
  },
  {
   "cell_type": "code",
   "execution_count": 11,
   "id": "cadc9a39-3483-4650-9d44-3d5efb73eae3",
   "metadata": {},
   "outputs": [
    {
     "name": "stdin",
     "output_type": "stream",
     "text": [
      "salary :  20000\n"
     ]
    },
    {
     "name": "stdout",
     "output_type": "stream",
     "text": [
      "2000.0\n"
     ]
    }
   ],
   "source": [
    "sal = float (input (\"salary : \"))\n",
    "tax = sal*(0.1, 0.2) [sal>50000]\n",
    "print (tax)"
   ]
  },
  {
   "cell_type": "code",
   "execution_count": 37,
   "id": "da12b22f-6fbd-4b4b-94e0-ab428a9bc9a4",
   "metadata": {},
   "outputs": [
    {
     "ename": "SyntaxError",
     "evalue": "invalid syntax. Perhaps you forgot a comma? (2260615191.py, line 4)",
     "output_type": "error",
     "traceback": [
      "\u001b[0;36m  Cell \u001b[0;32mIn[37], line 4\u001b[0;36m\u001b[0m\n\u001b[0;31m    print(\"Your Band Name could be\" + street \" \" + pet)\u001b[0m\n\u001b[0m          ^\u001b[0m\n\u001b[0;31mSyntaxError\u001b[0m\u001b[0;31m:\u001b[0m invalid syntax. Perhaps you forgot a comma?\n"
     ]
    }
   ],
   "source": [
    "print(\"Welcome to the Band Name Generator.\")\n",
    "street = input(\"What's the name of the city you grew up in?\")\n",
    "pet = input(\"What's your pet name?\")\n",
    "print(\"Your Band Name could be\" + street \" \" + pet)"
   ]
  },
  {
   "cell_type": "code",
   "execution_count": 39,
   "id": "f7e254de-bcc0-4f38-8a41-75598a8fb1f3",
   "metadata": {},
   "outputs": [
    {
     "name": "stdout",
     "output_type": "stream",
     "text": [
      "Welcome to the Band Name Generator.\n"
     ]
    },
    {
     "name": "stdin",
     "output_type": "stream",
     "text": [
      "What's the name of the city you grew up in? Pune\n",
      "What's your pet name? Ajay\n"
     ]
    },
    {
     "name": "stdout",
     "output_type": "stream",
     "text": [
      "Your band name could be Pune Ajay\n"
     ]
    }
   ],
   "source": [
    "print(\"Welcome to the Band Name Generator.\")\n",
    "street = input(\"What's the name of the city you grew up in?\")\n",
    "pet = input(\"What's your pet name?\")\n",
    "print(\"Your band name could be\",street,pet)"
   ]
  },
  {
   "cell_type": "code",
   "execution_count": null,
   "id": "65d1dcf1-b78f-4977-b063-2abab9048d1d",
   "metadata": {},
   "outputs": [],
   "source": []
  }
 ],
 "metadata": {
  "kernelspec": {
   "display_name": "Python 3 (ipykernel)",
   "language": "python",
   "name": "python3"
  },
  "language_info": {
   "codemirror_mode": {
    "name": "ipython",
    "version": 3
   },
   "file_extension": ".py",
   "mimetype": "text/x-python",
   "name": "python",
   "nbconvert_exporter": "python",
   "pygments_lexer": "ipython3",
   "version": "3.12.4"
  }
 },
 "nbformat": 4,
 "nbformat_minor": 5
}
